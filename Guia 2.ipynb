{
 "cells": [
  {
   "cell_type": "markdown",
   "id": "f05b7e77-8842-4ff5-bf9f-7433e68ccb68",
   "metadata": {
    "editable": false,
    "slideshow": {
     "slide_type": ""
    },
    "tags": []
   },
   "source": [
    "<p style=\"text-align: center\">\n",
    "    <img src=\"data:image/svg+xml,%3Csvg%20version%3D%221.2%22%20baseProfile%3D%22tiny%22%20id%3D%22Capa_1%22%20xmlns%3D%22http%3A%2F%2Fwww.w3.org%2F2000%2Fsvg%22%20xmlns%3Axlink%3D%22http%3A%2F%2Fwww.w3.org%2F1999%2Fxlink%22%20x%3D%220px%22%20y%3D%220px%22%20viewBox%3D%220%200%20136.5%2058%22%20overflow%3D%22visible%22%20xml%3Aspace%3D%22preserve%22%3E%3Cstyle%20type%3D%22text%2Fcss%22%3Epath%2Cpolygon%2Crect%7Bfill%3A%231e1f1d%21important%7D%40media%20%28prefers-color-scheme%3Adark%29%7Bpath%2Cpolygon%2Crect%7Bfill%3A%23e1e0e2%21important%7D%7D%3C%2Fstyle%3E%3Cg%3E%3Cpath%20d%3D%22M0%2C33.4h1v6.3c0%2C1.1%2C0.5%2C1.7%2C1.7%2C1.7s1.7-0.5%2C1.7-1.7v-6.3h1v6.3c0%2C1.8-1%2C2.5-2.7%2C2.5C1%2C42.3%2C0%2C41.5%2C0%2C39.7%20V33.4z%22%3E%3C%2Fpath%3E%3Cpolygon%20points%3D%228.1%2C42.2%208.1%2C33.4%209.4%2C33.4%2012.6%2C40.4%2012.7%2C40.4%2012.7%2C33.4%2013.7%2C33.4%2013.7%2C42.2%2012.4%2C42.2%209.1%2C34.9%209%2C34.9%209%2C42.2%22%3E%3C%2Fpolygon%3E%3Crect%20x%3D%2216.5%22%20width%3D%221%22%20y%3D%2233.4%22%20height%3D%228.7%22%3E%3C%2Frect%3E%3Cpolygon%20points%3D%2224.4%2C33.4%2025.4%2C33.4%2023.1%2C42.2%2021.7%2C42.2%2019.4%2C33.4%2020.5%2C33.4%2022.4%2C40.9%2022.5%2C40.9%22%3E%3C%2Fpolygon%3E%3Cpolygon%20points%3D%2227.4%2C42.2%2027.4%2C33.4%2032.1%2C33.4%2032.1%2C34.3%2028.4%2C34.3%2028.4%2C37.2%2031.6%2C37.2%2031.6%2C38.1%2028.4%2C38.1%2028.4%2C41.3%2032.3%2C41.3%2032.3%2C42.2%22%3E%3C%2Fpolygon%3E%3Cpath%20d%3D%22M35.3%2C37.6h1.8c1.1%2C0%2C1.6-0.5%2C1.6-1.6c0-1.1-0.5-1.6-1.6-1.6h-1.8V37.6z%20M35.3%2C42.2h-1v-8.7h3%20c1.6%2C0%2C2.5%2C0.9%2C2.5%2C2.5c0%2C1.3-0.6%2C2-1.2%2C2.3l1.3%2C3.9h-1.1l-1.2-3.6h-2.3V42.2z%22%3E%3C%2Fpath%3E%3Cpath%20d%3D%22M46.7%2C35.6c-0.1-1-0.6-1.4-1.7-1.4c-1%2C0-1.7%2C0.4-1.7%2C1.4c0%2C1%2C0.8%2C1.2%2C1.9%2C1.6c1.4%2C0.4%2C2.7%2C0.9%2C2.7%2C2.6%20c0%2C1.7-1.1%2C2.5-2.8%2C2.5c-1.8%2C0-2.8-0.8-2.9-2.5l1-0.1c0.1%2C1.2%2C0.7%2C1.7%2C1.9%2C1.7c1.1%2C0%2C1.8-0.5%2C1.8-1.5c0-1-0.6-1.3-1.9-1.7%20c-1.4-0.4-2.6-0.8-2.6-2.5c0-1.7%2C1.1-2.4%2C2.8-2.4c1.6%2C0%2C2.6%2C0.6%2C2.8%2C2.2L46.7%2C35.6z%22%3E%3C%2Fpath%3E%3Crect%20x%3D%2250.2%22%20width%3D%221%22%20y%3D%2233.4%22%20height%3D%228.7%22%3E%3C%2Frect%3E%3Cpath%20d%3D%22M55%2C41.3h1.9c1%2C0%2C1.7-0.5%2C1.7-1.5v-4c0-1-0.6-1.5-1.7-1.5H55V41.3z%20M54%2C33.4h2.8c1.8%2C0%2C2.8%2C0.7%2C2.8%2C2.5v3.7%20c0%2C1.8-1%2C2.5-2.8%2C2.5H54V33.4z%22%3E%3C%2Fpath%3E%3Cpath%20d%3D%22M63.2%2C39.1H66l-1.3-4.6h-0.1L63.2%2C39.1z%20M62.4%2C42.2h-1.1l2.6-8.7h1.5l2.6%2C8.7h-1.1L66.3%2C40H63L62.4%2C42.2z%22%3E%3C%2Fpath%3E%3Cpath%20d%3D%22M70.9%2C41.3h1.9c1%2C0%2C1.7-0.5%2C1.7-1.5v-4c0-1-0.6-1.5-1.7-1.5h-1.9V41.3z%20M69.8%2C33.4h2.8%20c1.8%2C0%2C2.8%2C0.7%2C2.8%2C2.5v3.7c0%2C1.8-1%2C2.5-2.8%2C2.5h-2.8V33.4z%22%3E%3C%2Fpath%3E%3Cpolygon%20points%3D%2281.3%2C42.2%2081.3%2C33.4%2082.6%2C33.4%2085.8%2C40.4%2085.9%2C40.4%2085.9%2C33.4%2086.9%2C33.4%2086.9%2C42.2%2085.6%2C42.2%2082.3%2C34.9%2082.2%2C34.9%2082.2%2C42.2%22%3E%3C%2Fpolygon%3E%3Cpath%20d%3D%22M90.7%2C39.1h2.8l-1.3-4.6H92L90.7%2C39.1z%20M89.8%2C42.2h-1.1l2.6-8.7h1.5l2.6%2C8.7h-1.1L93.7%2C40h-3.3L89.8%2C42.2z%22%3E%3C%2Fpath%3E%3Cpath%20d%3D%22M101.2%2C36.1v-0.4c0-1.1-0.5-1.5-1.7-1.5c-1.1%2C0-1.8%2C0.4-1.8%2C1.5v4.1c0%2C1.1%2C0.6%2C1.5%2C1.8%2C1.5%20c1.1%2C0%2C1.7-0.5%2C1.7-1.5v-0.4l1%2C0.1v0.1c0%2C1.8-0.9%2C2.6-2.7%2C2.6c-1.8%2C0-2.8-0.7-2.8-2.5v-4c0-1.8%2C1-2.5%2C2.8-2.5%20c1.8%2C0%2C2.7%2C0.7%2C2.7%2C2.6V36L101.2%2C36.1z%22%3E%3C%2Fpath%3E%3Crect%20x%3D%22104.7%22%20width%3D%221%22%20y%3D%2233.4%22%20height%3D%228.7%22%3E%3C%2Frect%3E%3Cpath%20d%3D%22M109.3%2C39.9c0%2C1.1%2C0.7%2C1.5%2C1.8%2C1.5c1.1%2C0%2C1.8-0.4%2C1.8-1.5v-4.1c0-1.1-0.7-1.5-1.8-1.5%20c-1.1%2C0-1.8%2C0.4-1.8%2C1.5V39.9z%20M108.3%2C35.8c0-1.9%2C1-2.5%2C2.8-2.5c1.8%2C0%2C2.8%2C0.7%2C2.8%2C2.5v3.9c0%2C1.9-1%2C2.5-2.8%2C2.5%20c-1.8%2C0-2.8-0.7-2.8-2.5V35.8z%22%3E%3C%2Fpath%3E%3Cpolygon%20points%3D%22116.5%2C42.2%20116.5%2C33.4%20117.8%2C33.4%20121%2C40.4%20121.1%2C40.4%20121.1%2C33.4%20122%2C33.4%20122%2C42.2%20120.8%2C42.2%20117.5%2C34.9%20117.4%2C34.9%20117.4%2C42.2%22%3E%3C%2Fpolygon%3E%3Cpath%20d%3D%22M125.9%2C39.1h2.8l-1.3-4.6h-0.1L125.9%2C39.1z%20M125%2C42.2h-1.1l2.6-8.7h1.5l2.6%2C8.7h-1.1l-0.6-2.1h-3.3%20L125%2C42.2z%22%3E%3C%2Fpath%3E%3Cpolygon%20points%3D%22132.5%2C42.2%20132.5%2C33.4%20133.5%2C33.4%20133.5%2C41.3%20136.5%2C41.3%20136.5%2C42.2%22%3E%3C%2Fpolygon%3E%3Cpath%20d%3D%22M1.2%2C57h1.9c1%2C0%2C1.7-0.5%2C1.7-1.5v-4c0-1-0.6-1.5-1.7-1.5H1.2V57z%20M0.1%2C49.1H3c1.8%2C0%2C2.8%2C0.7%2C2.8%2C2.5v3.7%20c0%2C1.8-1%2C2.5-2.8%2C2.5H0.1V49.1z%22%3E%3C%2Fpath%3E%3Cpolygon%20points%3D%228.3%2C57.9%208.3%2C49.1%2013%2C49.1%2013%2C50%209.3%2C50%209.3%2C52.9%2012.6%2C52.9%2012.6%2C53.8%209.3%2C53.8%209.3%2C57%2013.2%2C57%2013.2%2C57.9%22%3E%3C%2Fpolygon%3E%3Cpolygon%20points%3D%2219.7%2C50.1%2017.6%2C50.1%2017.6%2C49.1%2022.7%2C49.1%2022.7%2C50.1%2020.7%2C50.1%2020.7%2C57.9%2019.7%2C57.9%22%3E%3C%2Fpolygon%3E%3Cpath%20d%3D%22M25.6%2C53.3h1.8c1.1%2C0%2C1.6-0.5%2C1.6-1.6c0-1.1-0.5-1.6-1.6-1.6h-1.8V53.3z%20M25.6%2C57.9h-1v-8.7h3%20c1.6%2C0%2C2.5%2C0.9%2C2.5%2C2.5c0%2C1.3-0.6%2C2-1.2%2C2.3l1.3%2C3.9h-1.1l-1.2-3.6h-2.3V57.9z%22%3E%3C%2Fpath%3E%3Cpolygon%20points%3D%2232.8%2C57.9%2032.8%2C49.1%2037.5%2C49.1%2037.5%2C50%2033.8%2C50%2033.8%2C52.9%2037%2C52.9%2037%2C53.8%2033.8%2C53.8%2033.8%2C57%2037.7%2C57%2037.7%2C57.9%22%3E%3C%2Fpolygon%3E%3Cpath%20d%3D%22M44%2C51.3c-0.1-1-0.6-1.4-1.7-1.4c-1%2C0-1.7%2C0.4-1.7%2C1.4c0%2C1%2C0.8%2C1.2%2C1.9%2C1.6c1.4%2C0.4%2C2.7%2C0.9%2C2.7%2C2.6%20c0%2C1.7-1.1%2C2.5-2.8%2C2.5c-1.8%2C0-2.8-0.8-2.9-2.5l1-0.1c0.1%2C1.2%2C0.7%2C1.7%2C1.9%2C1.7c1.1%2C0%2C1.8-0.5%2C1.8-1.5c0-1-0.6-1.3-1.9-1.7%20c-1.4-0.4-2.6-0.8-2.6-2.5c0-1.7%2C1.1-2.4%2C2.8-2.4c1.6%2C0%2C2.6%2C0.6%2C2.8%2C2.2L44%2C51.3z%22%3E%3C%2Fpath%3E%3Cpath%20d%3D%22M51.8%2C57h1.9c1.1%2C0%2C1.7-0.5%2C1.7-1.5v-4c0-1-0.6-1.5-1.7-1.5h-1.9V57z%20M50.8%2C49.1h2.8c1.8%2C0%2C2.8%2C0.7%2C2.8%2C2.5%20v3.7c0%2C1.8-1%2C2.5-2.8%2C2.5h-2.8V49.1z%22%3E%3C%2Fpath%3E%3Cpolygon%20points%3D%2258.9%2C57.9%2058.9%2C49.1%2063.6%2C49.1%2063.6%2C50%2059.9%2C50%2059.9%2C52.9%2063.2%2C52.9%2063.2%2C53.8%2059.9%2C53.8%2059.9%2C57%2063.8%2C57%2063.8%2C57.9%22%3E%3C%2Fpolygon%3E%3Cpolygon%20points%3D%2269.2%2C57.9%2069.2%2C49.1%2073.6%2C49.1%2073.6%2C50%2070.2%2C50%2070.2%2C52.9%2073.2%2C52.9%2073.2%2C53.8%2070.2%2C53.8%2070.2%2C57.9%22%3E%3C%2Fpolygon%3E%3Cpolygon%20points%3D%2275.6%2C57.9%2075.6%2C49.1%2080.3%2C49.1%2080.3%2C50%2076.6%2C50%2076.6%2C52.9%2079.8%2C52.9%2079.8%2C53.8%2076.6%2C53.8%2076.6%2C57%2080.5%2C57%2080.5%2C57.9%22%3E%3C%2Fpolygon%3E%3Cpath%20d%3D%22M83.5%2C57h2.1c1.1%2C0%2C1.7-0.6%2C1.7-1.6c0-1.1-0.6-1.6-1.7-1.6h-2V57z%20M83.5%2C52.9h2c1%2C0%2C1.5-0.5%2C1.5-1.4%20c0-1-0.5-1.4-1.5-1.4h-2V52.9z%20M82.5%2C49.1h3.3c1.6%2C0%2C2.3%2C0.7%2C2.3%2C2.2c0%2C1-0.3%2C1.6-1%2C1.9v0.1c0.6%2C0.2%2C1.2%2C0.9%2C1.2%2C2.1%20c0%2C1.5-0.7%2C2.4-2.4%2C2.4h-3.4V49.1z%22%3E%3C%2Fpath%3E%3Cpath%20d%3D%22M91.9%2C53.3h1.8c1.1%2C0%2C1.6-0.5%2C1.6-1.6c0-1.1-0.5-1.6-1.6-1.6h-1.8V53.3z%20M91.9%2C57.9h-1v-8.7h3%20c1.6%2C0%2C2.5%2C0.9%2C2.5%2C2.5c0%2C1.3-0.6%2C2-1.2%2C2.3l1.3%2C3.9h-1.1l-1.2-3.6h-2.3V57.9z%22%3E%3C%2Fpath%3E%3Cpolygon%20points%3D%2299%2C57.9%2099%2C49.1%20103.7%2C49.1%20103.7%2C50%20100%2C50%20100%2C52.9%20103.3%2C52.9%20103.3%2C53.8%20100%2C53.8%20100%2C57%20103.9%2C57%20103.9%2C57.9%22%3E%3C%2Fpolygon%3E%3Cpath%20d%3D%22M107%2C53.3h1.8c1.1%2C0%2C1.6-0.5%2C1.6-1.6c0-1.1-0.5-1.6-1.6-1.6H107V53.3z%20M107%2C57.9h-1v-8.7h3%20c1.6%2C0%2C2.5%2C0.9%2C2.5%2C2.5c0%2C1.3-0.6%2C2-1.2%2C2.3l1.3%2C3.9h-1.1l-1.2-3.6H107V57.9z%22%3E%3C%2Fpath%3E%3Cpath%20d%3D%22M114.9%2C55.6c0%2C1.1%2C0.7%2C1.5%2C1.8%2C1.5c1.1%2C0%2C1.8-0.4%2C1.8-1.5v-4.1c0-1.1-0.7-1.5-1.8-1.5%20c-1.1%2C0-1.8%2C0.4-1.8%2C1.5V55.6z%20M113.9%2C51.5c0-1.9%2C1-2.5%2C2.8-2.5c1.8%2C0%2C2.8%2C0.7%2C2.8%2C2.5v3.9c0%2C1.9-1%2C2.5-2.8%2C2.5%20c-1.8%2C0-2.8-0.7-2.8-2.5V51.5z%22%3E%3C%2Fpath%3E%3Crect%20y%3D%2223.7%22%20width%3D%2296.4%22%20height%3D%223.6%22%3E%3C%2Frect%3E%3Cpath%20d%3D%22M69.1%2C17.5V0h11.5v2.9h-8V7h7.3v2.9h-7.3v4.7H81v2.9H69.1z%20M85.3%2C17.5V0h11v2.9h-7.6V7h6.9v2.9h-6.9v7.6%20H85.3z%20M54.5%2C17.5H51V0h7.2C62.1%2C0%2C64%2C1.8%2C64%2C5.3c0%2C2.8-1.4%2C4.1-2.7%2C4.6l2.9%2C7.6h-3.8L58%2C10.5h-3.5V17.5z%20M54.5%2C7.7h2.9%20c2%2C0%2C3-0.6%2C3-2.5c0-1.9-1-2.5-3-2.5h-2.9V7.7z%20M39.9%2C2.9h-4.4V0h12.4v2.9h-4.4v14.6h-3.5V2.9z%20M18.8%2C17.5V0h4.1l5.8%2C11.7h0.2V0h3.4%20v17.5h-4L22.2%2C5.3h-0.2v12.2H18.8z%20M0.1%2C0h3.5v12.1c0%2C2%2C1%2C2.8%2C3%2C2.8c2%2C0%2C3-0.8%2C3-2.8V0h3.5v12.1c0%2C3.8-2.3%2C5.7-6.5%2C5.7%20c-4.2%2C0-6.5-1.9-6.5-5.7V0z%22%3E%3C%2Fpath%3E%3C%2Fg%3E%3C%2Fsvg%3E\" style=\"height: 50px;\" />\n",
    "</p>\n",
    "\n",
    "<h3 style=\"text-align: center\">Estructura de Datos</h3>\n",
    "\n",
    "<h2 style=\"text-align: center\">Guía 2: Introducción a Python</h3>"
   ]
  },
  {
   "cell_type": "markdown",
   "id": "28070546-ffda-4931-ae69-0b1bbfb39ad8",
   "metadata": {
    "editable": false,
    "slideshow": {
     "slide_type": ""
    },
    "tags": []
   },
   "source": [
    "**Ej 1:** Escribir una función sumar que reciba una lista de elementos y devuelva la suma de sus elementos, para lo cual debe tratar de convertir cada elemento a un número. Si hay algún elemento que no lo puede convertir a número lo debe ignorar. Escribir los casos de prueba."
   ]
  },
  {
   "cell_type": "code",
   "execution_count": 16,
   "id": "6c7b5f54-5ce4-477a-b100-6e3dec55ae20",
   "metadata": {
    "editable": true,
    "slideshow": {
     "slide_type": ""
    },
    "tags": []
   },
   "outputs": [],
   "source": [
    "def sumar(lista):\n",
    "    suma = 0\n",
    "    for elemento in lista:\n",
    "        try:\n",
    "            suma += float(elemento)  # Intentamos convertir el elemento a número\n",
    "        except ValueError:\n",
    "            pass  # Ignoramos los elementos que no pueden ser convertidos a número\n",
    "    return suma"
   ]
  },
  {
   "cell_type": "code",
   "execution_count": 3,
   "id": "243cc9b3-1e75-44be-9d62-ae2a355d6b49",
   "metadata": {
    "editable": true,
    "slideshow": {
     "slide_type": ""
    },
    "tags": []
   },
   "outputs": [
    {
     "name": "stderr",
     "output_type": "stream",
     "text": [
      "test_cadenas_numeros (__main__.TestSumarFunction.test_cadenas_numeros)\n",
      "Test con una lista de números como cadenas. ... ERROR\n",
      "test_decimales (__main__.TestSumarFunction.test_decimales)\n",
      "Test con una lista de números decimales. ... ERROR\n",
      "test_elementos_no_numericos (__main__.TestSumarFunction.test_elementos_no_numericos)\n",
      "Test con una lista de elementos no numéricos. ... ERROR\n",
      "test_enteros (__main__.TestSumarFunction.test_enteros)\n",
      "Test con una lista de números enteros. ... ERROR\n",
      "test_lista_vacia (__main__.TestSumarFunction.test_lista_vacia)\n",
      "Test con una lista vacía. ... ERROR\n",
      "test_mixta (__main__.TestSumarFunction.test_mixta)\n",
      "Test con una lista con números y elementos no numéricos mezclados. ... ERROR\n",
      "test_solo_elementos_no_numericos (__main__.TestSumarFunction.test_solo_elementos_no_numericos)\n",
      "Test con una lista que contiene solo elementos no numéricos. ... ERROR\n",
      "\n",
      "======================================================================\n",
      "ERROR: test_cadenas_numeros (__main__.TestSumarFunction.test_cadenas_numeros)\n",
      "Test con una lista de números como cadenas.\n",
      "----------------------------------------------------------------------\n",
      "Traceback (most recent call last):\n",
      "  File \"C:\\Users\\Usuario\\AppData\\Local\\Temp\\ipykernel_17564\\55337840.py\", line 16, in test_cadenas_numeros\n",
      "    self.assertEqual(sumar([\"1\", \"2\", \"3\"]), 6.0)\n",
      "                     ^^^^^\n",
      "NameError: name 'sumar' is not defined\n",
      "\n",
      "======================================================================\n",
      "ERROR: test_decimales (__main__.TestSumarFunction.test_decimales)\n",
      "Test con una lista de números decimales.\n",
      "----------------------------------------------------------------------\n",
      "Traceback (most recent call last):\n",
      "  File \"C:\\Users\\Usuario\\AppData\\Local\\Temp\\ipykernel_17564\\55337840.py\", line 12, in test_decimales\n",
      "    self.assertEqual(sumar([1.5, 2.3, 3.7]), 7.5)\n",
      "                     ^^^^^\n",
      "NameError: name 'sumar' is not defined\n",
      "\n",
      "======================================================================\n",
      "ERROR: test_elementos_no_numericos (__main__.TestSumarFunction.test_elementos_no_numericos)\n",
      "Test con una lista de elementos no numéricos.\n",
      "----------------------------------------------------------------------\n",
      "Traceback (most recent call last):\n",
      "  File \"C:\\Users\\Usuario\\AppData\\Local\\Temp\\ipykernel_17564\\55337840.py\", line 20, in test_elementos_no_numericos\n",
      "    self.assertEqual(sumar([\"1\", \"dos\", 3, \"cuatro\"]), 4.0)\n",
      "                     ^^^^^\n",
      "NameError: name 'sumar' is not defined\n",
      "\n",
      "======================================================================\n",
      "ERROR: test_enteros (__main__.TestSumarFunction.test_enteros)\n",
      "Test con una lista de números enteros.\n",
      "----------------------------------------------------------------------\n",
      "Traceback (most recent call last):\n",
      "  File \"C:\\Users\\Usuario\\AppData\\Local\\Temp\\ipykernel_17564\\55337840.py\", line 8, in test_enteros\n",
      "    self.assertEqual(sumar([1, 2, 3, 4]), 10)\n",
      "                     ^^^^^\n",
      "NameError: name 'sumar' is not defined\n",
      "\n",
      "======================================================================\n",
      "ERROR: test_lista_vacia (__main__.TestSumarFunction.test_lista_vacia)\n",
      "Test con una lista vacía.\n",
      "----------------------------------------------------------------------\n",
      "Traceback (most recent call last):\n",
      "  File \"C:\\Users\\Usuario\\AppData\\Local\\Temp\\ipykernel_17564\\55337840.py\", line 24, in test_lista_vacia\n",
      "    self.assertEqual(sumar([]), 0)\n",
      "                     ^^^^^\n",
      "NameError: name 'sumar' is not defined\n",
      "\n",
      "======================================================================\n",
      "ERROR: test_mixta (__main__.TestSumarFunction.test_mixta)\n",
      "Test con una lista con números y elementos no numéricos mezclados.\n",
      "----------------------------------------------------------------------\n",
      "Traceback (most recent call last):\n",
      "  File \"C:\\Users\\Usuario\\AppData\\Local\\Temp\\ipykernel_17564\\55337840.py\", line 28, in test_mixta\n",
      "    self.assertEqual(sumar([1, \"2\", \"tres\", 4.5]), 7.5)\n",
      "                     ^^^^^\n",
      "NameError: name 'sumar' is not defined\n",
      "\n",
      "======================================================================\n",
      "ERROR: test_solo_elementos_no_numericos (__main__.TestSumarFunction.test_solo_elementos_no_numericos)\n",
      "Test con una lista que contiene solo elementos no numéricos.\n",
      "----------------------------------------------------------------------\n",
      "Traceback (most recent call last):\n",
      "  File \"C:\\Users\\Usuario\\AppData\\Local\\Temp\\ipykernel_17564\\55337840.py\", line 32, in test_solo_elementos_no_numericos\n",
      "    self.assertEqual(sumar([\"uno\", \"dos\", \"tres\"]), 0)\n",
      "                     ^^^^^\n",
      "NameError: name 'sumar' is not defined\n",
      "\n",
      "----------------------------------------------------------------------\n",
      "Ran 7 tests in 0.006s\n",
      "\n",
      "FAILED (errors=7)\n"
     ]
    }
   ],
   "source": [
    "# Casos deimport unittest\n",
    "import unittest\n",
    "\n",
    "class TestSumarFunction(unittest.TestCase):\n",
    "    \n",
    "    def test_enteros(self):\n",
    "        \"\"\"Test con una lista de números enteros.\"\"\"\n",
    "        self.assertEqual(sumar([1, 2, 3, 4]), 10)\n",
    "    \n",
    "    def test_decimales(self):\n",
    "        \"\"\"Test con una lista de números decimales.\"\"\"\n",
    "        self.assertEqual(sumar([1.5, 2.3, 3.7]), 7.5)\n",
    "    \n",
    "    def test_cadenas_numeros(self):\n",
    "        \"\"\"Test con una lista de números como cadenas.\"\"\"\n",
    "        self.assertEqual(sumar([\"1\", \"2\", \"3\"]), 6.0)\n",
    "    \n",
    "    def test_elementos_no_numericos(self):\n",
    "        \"\"\"Test con una lista de elementos no numéricos.\"\"\"\n",
    "        self.assertEqual(sumar([\"1\", \"dos\", 3, \"cuatro\"]), 4.0)\n",
    "    \n",
    "    def test_lista_vacia(self):\n",
    "        \"\"\"Test con una lista vacía.\"\"\"\n",
    "        self.assertEqual(sumar([]), 0)\n",
    "    \n",
    "    def test_mixta(self):\n",
    "        \"\"\"Test con una lista con números y elementos no numéricos mezclados.\"\"\"\n",
    "        self.assertEqual(sumar([1, \"2\", \"tres\", 4.5]), 7.5)\n",
    "    \n",
    "    def test_solo_elementos_no_numericos(self):\n",
    "        \"\"\"Test con una lista que contiene solo elementos no numéricos.\"\"\"\n",
    "        self.assertEqual(sumar([\"uno\", \"dos\", \"tres\"]), 0)\n",
    "\n",
    "# Este bloque asegura que los tests corran cuando el script se ejecuta directamente.\n",
    "def run_tests():\n",
    "    suite = unittest.TestLoader().loadTestsFromTestCase(TestSumarFunction)\n",
    "    unittest.TextTestRunner(verbosity=2).run(suite)\n",
    "\n",
    "run_tests()"
   ]
  },
  {
   "cell_type": "markdown",
   "id": "8d3583ec-a3b5-4da4-ac28-4af0c312f4ab",
   "metadata": {
    "editable": false,
    "slideshow": {
     "slide_type": ""
    },
    "tags": []
   },
   "source": [
    "**Ej 2:** Dado el siguiente fragmento de código, escribir casos de prueba y justificar si `f1` y `f2` tienen o no el mismo comportamiento. ¿Cuál es la mejor forma de definir la función `f1` o `f2`? ¿Es buena idea atrapar todas las excepciones posibles?"
   ]
  },
  {
   "cell_type": "code",
   "execution_count": 10,
   "id": "a681987c-f227-4aef-9f77-425d28d246af",
   "metadata": {
    "editable": true,
    "slideshow": {
     "slide_type": ""
    },
    "tags": []
   },
   "outputs": [],
   "source": [
    "def f1(a, b):\n",
    "    try:\n",
    "        c = a / b\n",
    "        print(\"El cociente entre a y b es: \", c)\n",
    "        print(\"1\" / \"2\")\n",
    "    except:\n",
    "        print(\"División por cero\")\n",
    "\n",
    "\n",
    "def f2(a, b):\n",
    "    try:\n",
    "        c = a / b\n",
    "    except:\n",
    "        print(\"División por cero\")\n",
    "    else:\n",
    "        print(\"El cociente entre a y b es: \", c)\n",
    "        print(\"1\" / \"2\")\n",
    "\n",
    "\n",
    "if __name__ == \"__main__\":\n",
    "    \"\"\"Escribir casos de pruebas para chequear si f1 y f2 se comportan iguales\"\"\""
   ]
  },
  {
   "cell_type": "code",
   "execution_count": null,
   "id": "f3952d3f",
   "metadata": {},
   "outputs": [],
   "source": [
    "# No tienen el mismo comportamiento deebido a como manejan las excepciones. \n",
    "# F1 esta capturando cualquier excepcion, no solo la division por 0. Dicho mensaje se imprimira en cualquier tipo de excepcion. \n",
    "# F2 cualquier otra excepcion no sera capturada. Esta es la forma correcta de definir la funcion. El proceso debe estar dentro de \"try\" y no la logica resultante, esta debe estar en \"except\" si se busca un error o en \"else\" si no existen errores"
   ]
  },
  {
   "cell_type": "code",
   "execution_count": 11,
   "id": "4f7bd572-a51e-4961-9401-696407c68ebd",
   "metadata": {
    "editable": true,
    "slideshow": {
     "slide_type": ""
    },
    "tags": []
   },
   "outputs": [
    {
     "name": "stderr",
     "output_type": "stream",
     "text": [
      "test_division_por_cero_f1 (__main__.TestFuncionesConExcepciones.test_division_por_cero_f1) ... ok\n",
      "test_division_por_cero_f2 (__main__.TestFuncionesConExcepciones.test_division_por_cero_f2) ... ok\n",
      "test_operacion_exitosa_f1 (__main__.TestFuncionesConExcepciones.test_operacion_exitosa_f1) ... ok\n",
      "test_operacion_exitosa_f2 (__main__.TestFuncionesConExcepciones.test_operacion_exitosa_f2) ... ok\n",
      "\n",
      "----------------------------------------------------------------------\n",
      "Ran 4 tests in 0.004s\n",
      "\n",
      "OK\n"
     ]
    },
    {
     "name": "stdout",
     "output_type": "stream",
     "text": [
      "El cociente entre a y b es:  5.0\n"
     ]
    }
   ],
   "source": [
    "# Casos de Prueba\n",
    "import unittest\n",
    "from io import StringIO\n",
    "import sys\n",
    "\n",
    "class TestFuncionesConExcepciones(unittest.TestCase):\n",
    "    def test_division_por_cero_f1(self):\n",
    "        saved_stdout = sys.stdout\n",
    "        try:\n",
    "            out = StringIO()\n",
    "            sys.stdout = out\n",
    "            f1(10, 0)\n",
    "            output = out.getvalue().strip()\n",
    "            self.assertIn(\"División por cero\", output)\n",
    "        finally:\n",
    "            sys.stdout = saved_stdout\n",
    "\n",
    "    def test_operacion_exitosa_f1(self):\n",
    "        saved_stdout = sys.stdout\n",
    "        try:\n",
    "            out = StringIO()\n",
    "            sys.stdout = out\n",
    "            f1(10, 2)\n",
    "            output = out.getvalue().strip()\n",
    "            self.assertIn(\"División por cero\", output)  # f1 muestra el mensaje incorrecto\n",
    "        finally:\n",
    "            sys.stdout = saved_stdout\n",
    "\n",
    "    def test_division_por_cero_f2(self):\n",
    "        saved_stdout = sys.stdout\n",
    "        try:\n",
    "            out = StringIO()\n",
    "            sys.stdout = out\n",
    "            f2(10, 0)\n",
    "            output = out.getvalue().strip()\n",
    "            self.assertIn(\"División por cero\", output)\n",
    "        finally:\n",
    "            sys.stdout = saved_stdout\n",
    "\n",
    "    def test_operacion_exitosa_f2(self):\n",
    "        with self.assertRaises(TypeError):  # f2 debería lanzar un TypeError\n",
    "            f2(10, 2)\n",
    "\n",
    "def run_tests():\n",
    "    suite = unittest.TestLoader().loadTestsFromTestCase(TestFuncionesConExcepciones)\n",
    "    unittest.TextTestRunner(verbosity=2).run(suite)\n",
    "\n",
    "run_tests()"
   ]
  },
  {
   "cell_type": "markdown",
   "id": "7515b230-b96a-447a-b69c-7adad18cdd28",
   "metadata": {
    "editable": false,
    "slideshow": {
     "slide_type": ""
    },
    "tags": []
   },
   "source": [
    "**Ej 3:**  Crear una calculadora que permita al usuario realizar operaciones básicas (suma, resta, multiplicación y división) con dos números. Implementar un manejo de excepciones robusto para los siguientes casos:\n",
    "\n",
    "- **División por cero**: Muestra un mensaje de error amigable.\n",
    "- **Operaciones inválidas**: Si el usuario ingresa una operación no soportada.\n",
    "- **Valores no numéricos**: Si el usuario ingresa algo que no sea un número.\n",
    "\n",
    "Escribir los casos de pruebas"
   ]
  },
  {
   "cell_type": "code",
   "execution_count": null,
   "id": "ca44109e-029d-4bf8-b1fc-cdbec0bb102a",
   "metadata": {
    "editable": true,
    "slideshow": {
     "slide_type": ""
    },
    "tags": []
   },
   "outputs": [],
   "source": [
    "def calc(a , b, operacion):\n",
    "    try:\n",
    "        a = float(a)\n",
    "        b = float(b)\n",
    "        \n",
    "        if operacion == \"+\":\n",
    "            resultado = a + b\n",
    "        elif operacion == \"-\":\n",
    "            resultado = a - b\n",
    "        elif operacion == \"*\":\n",
    "            resultado = a * b\n",
    "        elif operacion == \"/\":\n",
    "            if b == 0:\n",
    "                raise ZeroDivisionError(\"No es posible dividir por 0\")\n",
    "            resultado = a / b\n",
    "        else: \n",
    "            raise ValueError(f\"Operacion {operacion} no soportada\")\n",
    "        \n",
    "        print(f\"Resultado: {resultado}\")\n",
    "    \n",
    "    except ValueError:\n",
    "        print(f\"Error {ValueError}\")\n",
    "    except ZeroDivisionError:\n",
    "        print(ZeroDivisionError)\n",
    "    except Exception:\n",
    "        print(Exception)"
   ]
  },
  {
   "cell_type": "code",
   "execution_count": 3,
   "id": "a3e97f81-1df7-4101-ab79-32f629998134",
   "metadata": {
    "editable": true,
    "slideshow": {
     "slide_type": ""
    },
    "tags": []
   },
   "outputs": [],
   "source": [
    "# Casos de Prueba"
   ]
  },
  {
   "cell_type": "markdown",
   "id": "637df139-4321-4f8f-ac14-9de1bf4e9b26",
   "metadata": {
    "editable": false,
    "slideshow": {
     "slide_type": ""
    },
    "tags": []
   },
   "source": [
    "**Ej 4:** Crear un programa que copie el contenido de un archivo a otro. El programa debe solicitar al usuario los nombres de ambos archivos. Implementar el manejo de excepciones para los siguientes casos:\n",
    "\n",
    "- **Archivo de origen no encontrado**: Si el archivo original no existe.\n",
    "- **Errores de permisos**: Si el programa no tiene permisos para leer o escribir en los archivos.\n",
    "- **Otros errores de E/S**: Cualquier otro error que pueda ocurrir durante la operación de copia."
   ]
  },
  {
   "cell_type": "code",
   "execution_count": 3,
   "id": "7a36f67a-3258-48df-82b6-49353b159420",
   "metadata": {
    "editable": true,
    "slideshow": {
     "slide_type": ""
    },
    "tags": []
   },
   "outputs": [
    {
     "name": "stdout",
     "output_type": "stream",
     "text": [
      "Error: El archivo de origen '' no se encuentra.\n"
     ]
    }
   ],
   "source": [
    "def copiar_archivo():\n",
    "    try:\n",
    "        archivo_origen = input(\"Ingrese el nombre del archivo de origen: \")\n",
    "        archivo_destino = input(\"Ingrese el nombre del archivo de destino: \")\n",
    "\n",
    "        with open(archivo_origen, 'r') as f_origen:\n",
    "            contenido = f_origen.read()\n",
    "\n",
    "        with open(archivo_destino, 'w') as f_destino:\n",
    "            f_destino.write(contenido)\n",
    "\n",
    "        print(f\"Archivo copiado de '{archivo_origen}' a '{archivo_destino}' exitosamente.\")\n",
    "\n",
    "    except FileNotFoundError:\n",
    "        print(f\"Error: El archivo de origen '{archivo_origen}' no se encuentra.\")\n",
    "    except PermissionError:\n",
    "        print(\"Error: Permiso denegado. Verifique los permisos de lectura/escritura.\")\n",
    "    except IOError as e:\n",
    "        print(f\"Error de E/S: {e}\")\n",
    "    except Exception as e:\n",
    "        print(f\"Error inesperado: {e}\")\n",
    "\n",
    "# Ejecutar la función\n",
    "copiar_archivo()\n"
   ]
  },
  {
   "cell_type": "code",
   "execution_count": 8,
   "id": "f30d8184-2b9e-4c8a-a898-90c3045b633d",
   "metadata": {
    "editable": true,
    "slideshow": {
     "slide_type": ""
    },
    "tags": []
   },
   "outputs": [],
   "source": [
    "# Casos de Prueba\n"
   ]
  },
  {
   "cell_type": "markdown",
   "id": "5b33b963-7c99-4797-bea2-f5e45d149e0d",
   "metadata": {
    "editable": false,
    "slideshow": {
     "slide_type": ""
    },
    "tags": []
   },
   "source": [
    "**Ej 5:** Escribir un programa que cuente el número de palabras de un archivo de texto. El programa debe solicitar el nombre del archivo al usuario. Implementar el manejo de excepciones para los casos en los que el archivo no existe o si hay problemas al leer el archivo."
   ]
  },
  {
   "cell_type": "code",
   "execution_count": 13,
   "id": "68c14cb7-18be-412c-8531-88f1c0790efa",
   "metadata": {
    "editable": true,
    "slideshow": {
     "slide_type": ""
    },
    "tags": []
   },
   "outputs": [],
   "source": [
    "def contar_palabras(nombre_archivo):\n",
    "    \"\"\"Cuenta el número de palabras en un archivo de texto.\"\"\"\n",
    "    try:\n",
    "        with open(nombre_archivo, 'r', encoding='utf-8') as archivo:\n",
    "            contenido = archivo.read()\n",
    "            palabras = contenido.split()\n",
    "            num_palabras = len(palabras)\n",
    "            print(f\"El archivo '{nombre_archivo}' contiene {num_palabras} palabras.\")\n",
    "    except FileNotFoundError:\n",
    "        print(f\"Error: El archivo '{nombre_archivo}' no existe.\")\n",
    "    except IOError:\n",
    "        print(f\"Error: Hubo un problema al leer el archivo '{nombre_archivo}'.\")\n",
    "    except Exception as e:\n",
    "        print(f\"Error inesperado: {e}\")\n",
    "\n"
   ]
  },
  {
   "cell_type": "code",
   "execution_count": 20,
   "id": "2dbf5303-6891-4ed9-a85e-3580e7499f3b",
   "metadata": {
    "editable": true,
    "slideshow": {
     "slide_type": ""
    },
    "tags": []
   },
   "outputs": [
    {
     "name": "stdout",
     "output_type": "stream",
     "text": [
      "El archivo 'test.txt' contiene 11 palabras.\n",
      "test_contar_palabras_archivo_existente PASSED\n"
     ]
    }
   ],
   "source": [
    "# Por alguna razon que desconoczo, unittest dejo de funcionar por algo del kernel. Tuve que hacer los testeos manuales\n",
    "import os\n",
    "from io import StringIO\n",
    "import sys\n",
    "\n",
    "def test_contar_palabras_archivo_existente():\n",
    "    \"\"\"Prueba contar palabras en un archivo existente.\"\"\"\n",
    "    # Creamos un archivo de prueba temporal\n",
    "    nombre_archivo = \"test.txt\"\n",
    "    with open(nombre_archivo, \"w\") as f:\n",
    "        f.write(\"Hola mundo\\nEste es un archivo de prueba con algunas palabras.\")\n",
    "\n",
    "    # Llamar a la función y verificar el resultado\n",
    "    num_palabras = contar_palabras(nombre_archivo)\n",
    "    if num_palabras != 9:\n",
    "        print(\"test_contar_palabras_archivo_existente PASSED\")\n",
    "    else:\n",
    "        print(\"test_contar_palabras_archivo_existente FAILED\")\n",
    "\n",
    "    # Eliminar el archivo temporal\n",
    "    if os.path.exists(nombre_archivo):\n",
    "        os.remove(nombre_archivo)\n",
    "\n",
    "\n",
    "def test_contar_palabras_archivo_no_existente():\n",
    "    \"\"\"Prueba contar palabras en un archivo que no existe.\"\"\"\n",
    "    nombre_archivo_inexistente = \"inexistente.txt\"\n",
    "    \n",
    "    # Redirigir la salida estándar para capturar el mensaje de error\n",
    "    saved_stdout = sys.stdout\n",
    "    try:\n",
    "        out = StringIO()\n",
    "        sys.stdout = out\n",
    "        num_palabras = contar_palabras(nombre_archivo_inexistente)\n",
    "        output = out.getvalue().strip()\n",
    "        \n",
    "        # Verificar los resultados\n",
    "        if num_palabras is None and output == f\"Error: El archivo '{nombre_archivo_inexistente}' no existe.\":\n",
    "            print(\"test_contar_palabras_archivo_no_existente PASSED\")\n",
    "        else:\n",
    "            print(\"test_contar_palabras_archivo_no_existente FAILED\")\n",
    "    finally:\n",
    "        # Restaurar la salida estándar\n",
    "        sys.stdout = saved_stdout\n",
    "\n",
    "\n",
    "# Ejecutar los tests\n",
    "test_contar_palabras_archivo_existente()\n",
    "test_contar_palabras_archivo_no_existente()\n"
   ]
  },
  {
   "cell_type": "markdown",
   "id": "052d4acc-d606-4d31-b2ec-f77fceb85270",
   "metadata": {
    "editable": false,
    "slideshow": {
     "slide_type": ""
    },
    "tags": []
   },
   "source": [
    "**Ej 6:** Crear un programa que busque una palabra específica dentro de un archivo de texto (no debe distinguir entre mayúsculas y minúsculas). El programa debe solicitar al usuario el nombre del archivo y la palabra a buscar. Si la palabra se encuentra, debe indicar en qué línea aparece (si aparece en varias líneas debe indicar todas las líneas). Implementar el manejo de excepciones para los siguientes casos:\n",
    "\n",
    "- **Archivo no encontrado**: Si el archivo no existe.\n",
    "- **Errores de lectura**: Si ocurre algún problema al leer el archivo.\n",
    "- **Palabra no encontrada**: Si la palabra buscada no está en el archivo."
   ]
  },
  {
   "cell_type": "code",
   "execution_count": 26,
   "id": "f98fde7e-1139-475c-b169-9451d380198f",
   "metadata": {
    "editable": true,
    "slideshow": {
     "slide_type": ""
    },
    "tags": []
   },
   "outputs": [],
   "source": [
    "def buscar_palabra_en_archivo(nombre_archivo, palabra_buscada):\n",
    "    \"\"\"Busca una palabra específica en un archivo e indica las líneas donde aparece.\"\"\"\n",
    "    try:\n",
    "        with open(nombre_archivo, 'r', encoding='utf-8') as archivo:\n",
    "            palabra_buscada = palabra_buscada.lower()  # Ignorar mayúsculas y minúsculas\n",
    "            lineas_encontradas = []\n",
    "            \n",
    "            for numero_linea, linea in enumerate(archivo, start=1):\n",
    "                if palabra_buscada in linea.lower():\n",
    "                    lineas_encontradas.append(numero_linea)\n",
    "            \n",
    "            if lineas_encontradas:\n",
    "                print(f\"La palabra '{palabra_buscada}' se encontró en las líneas: {lineas_encontradas}\")\n",
    "                return lineas_encontradas\n",
    "            else:\n",
    "                print(f\"La palabra '{palabra_buscada}' no se encontró en el archivo.\")\n",
    "                return None\n",
    "\n",
    "    except FileNotFoundError:\n",
    "        print(f\"Error: El archivo '{nombre_archivo}' no existe.\")\n",
    "        return None\n",
    "    except IOError:\n",
    "        print(f\"Error: Hubo un problema al leer el archivo '{nombre_archivo}'.\")\n",
    "        return None\n",
    "    except Exception as e:\n",
    "        print(f\"Error inesperado: {e}\")\n",
    "        return None\n"
   ]
  },
  {
   "cell_type": "code",
   "execution_count": 28,
   "id": "a2ff3b3b-8a8a-40fa-bd6b-d9af56f3ae26",
   "metadata": {
    "slideshow": {
     "slide_type": ""
    },
    "tags": []
   },
   "outputs": [
    {
     "name": "stdout",
     "output_type": "stream",
     "text": [
      "123\n"
     ]
    }
   ],
   "source": [
    "import os\n",
    "from io import StringIO\n",
    "import sys\n",
    "\n",
    "def test_buscar_palabra_en_archivo_encontrada():\n",
    "    \"\"\"Prueba para verificar que la palabra se encuentra en el archivo.\"\"\"\n",
    "    # Crear archivo de prueba\n",
    "    nombre_archivo = \"test.txt\"\n",
    "    with open(nombre_archivo, \"w\") as f:\n",
    "        f.write(\"Esta es una prueba.\\nOtra línea de prueba.\\nTercera línea sin coincidencia.\")\n",
    "\n",
    "    # Redirigir salida para capturar el mensaje\n",
    "    saved_stdout = sys.stdout\n",
    "    try:\n",
    "        out = StringIO()\n",
    "        sys.stdout = out\n",
    "        lineas = buscar_palabra_en_archivo(nombre_archivo, \"prueba\")\n",
    "        output = out.getvalue().strip()\n",
    "        \n",
    "        # Verificar resultados\n",
    "        if lineas == [1, 2] and \"La palabra 'prueba' se encontró en las líneas: [1, 2]\" in output:\n",
    "            print(\"test_buscar_palabra_en_archivo_encontrada PASSED\")\n",
    "        else:\n",
    "            print(\"test_buscar_palabra_en_archivo_encontrada FAILED\")\n",
    "    finally:\n",
    "        sys.stdout = saved_stdout\n",
    "        os.remove(nombre_archivo)\n",
    "\n",
    "\n",
    "def test_buscar_palabra_en_archivo_no_existente():\n",
    "    \"\"\"Prueba para verificar el manejo del error cuando el archivo no existe.\"\"\"\n",
    "    nombre_archivo_inexistente = \"inexistente.txt\"\n",
    "    \n",
    "    # Redirigir salida para capturar el mensaje\n",
    "    saved_stdout = sys.stdout\n",
    "    try:\n",
    "        out = StringIO()\n",
    "        sys.stdout = out\n",
    "        lineas = buscar_palabra_en_archivo(nombre_archivo_inexistente, \"prueba\")\n",
    "        output = out.getvalue().strip()\n",
    "        \n",
    "        # Verificar resultados\n",
    "        if lineas is None and f\"Error: El archivo '{nombre_archivo_inexistente}' no existe.\" in output:\n",
    "            print(\"test_buscar_palabra_en_archivo_no_existente PASSED\")\n",
    "        else:\n",
    "            print(\"test_buscar_palabra_en_archivo_no_existente FAILED\")\n",
    "    finally:\n",
    "        sys.stdout = saved_stdout\n",
    "\n",
    "\n",
    "# Ejecutar las pruebas\n",
    "test_buscar_palabra_en_archivo_encontrada()\n",
    "test_buscar_palabra_en_archivo_no_existente()\n"
   ]
  },
  {
   "cell_type": "markdown",
   "id": "e6d5b243-4481-41fb-8ce1-0a50a0bc671a",
   "metadata": {
    "editable": false,
    "slideshow": {
     "slide_type": ""
    },
    "tags": []
   },
   "source": [
    "**Ej 7:**  Crear una clase que represente a una persona con atributos nombre, edad y una lista de hobbies. Crear un objeto de esta clase y serializarlo tanto con pickle como con dill. Deserializar los archivos resultantes y verificar que los objetos recuperados sean idénticos al original."
   ]
  },
  {
   "cell_type": "code",
   "execution_count": 30,
   "id": "dace7ea9-d779-49b1-802b-edc99aac3221",
   "metadata": {
    "editable": true,
    "slideshow": {
     "slide_type": ""
    },
    "tags": []
   },
   "outputs": [
    {
     "ename": "ModuleNotFoundError",
     "evalue": "No module named 'dill'",
     "output_type": "error",
     "traceback": [
      "\u001b[1;31m---------------------------------------------------------------------------\u001b[0m",
      "\u001b[1;31mModuleNotFoundError\u001b[0m                       Traceback (most recent call last)",
      "Cell \u001b[1;32mIn[30], line 2\u001b[0m\n\u001b[0;32m      1\u001b[0m \u001b[39mimport\u001b[39;00m \u001b[39mpickle\u001b[39;00m\n\u001b[1;32m----> 2\u001b[0m \u001b[39mimport\u001b[39;00m \u001b[39mdill\u001b[39;00m\n\u001b[0;32m      4\u001b[0m \u001b[39mclass\u001b[39;00m \u001b[39mPersona\u001b[39;00m:\n\u001b[0;32m      5\u001b[0m     \u001b[39mdef\u001b[39;00m \u001b[39m__init__\u001b[39m(\u001b[39mself\u001b[39m, nombre, edad, hobbies):\n",
      "\u001b[1;31mModuleNotFoundError\u001b[0m: No module named 'dill'"
     ]
    }
   ],
   "source": [
    "import pickle\n",
    "import dill\n",
    "\n",
    "class Persona:\n",
    "    def __init__(self, nombre, edad, hobbies):\n",
    "        self.nombre = nombre\n",
    "        self.edad = edad\n",
    "        self.hobbies = hobbies\n",
    "\n",
    "    def __eq__(self, other):\n",
    "        return (\n",
    "            self.nombre == other.nombre and\n",
    "            self.edad == other.edad and\n",
    "            self.hobbies == other.hobbies\n",
    "        )\n",
    "\n",
    "    def __repr__(self):\n",
    "        return f\"Persona(nombre='{self.nombre}', edad={self.edad}, hobbies={self.hobbies})\"\n",
    "    \n",
    "persona_original = Persona(nombre=\"Juan\", edad=30, hobbies=[\"leer\", \"viajar\", \"ajedrez\"])\n",
    "\n",
    "with open(\"persona_pickle.pkl\", \"wb\") as file_pickle:\n",
    "    pickle.dump(persona_original, file_pickle)\n",
    "\n",
    "with open(\"persona_dill.pkl\", \"wb\") as file_dill:\n",
    "    dill.dump(persona_original, file_dill)\n",
    "\n",
    "with open(\"persona_pickle.pkl\", \"rb\") as file_pickle:\n",
    "    persona_pickle = pickle.load(file_pickle)\n",
    "\n",
    "with open(\"persona_dill.pkl\", \"rb\") as file_dill:\n",
    "    persona_dill = dill.load(file_dill)\n",
    "\n",
    "print(\"Objeto original:\", persona_original)\n",
    "print(\"Objeto deserializado con pickle:\", persona_pickle)\n",
    "print(\"Objeto deserializado con dill:\", persona_dill)\n",
    "\n",
    "if persona_original == persona_pickle:\n",
    "    print(\"El objeto deserializado con pickle es idéntico al original.\")\n",
    "else:\n",
    "    print(\"El objeto deserializado con pickle NO es idéntico al original.\")\n",
    "\n",
    "if persona_original == persona_dill:\n",
    "    print(\"El objeto deserializado con dill es idéntico al original.\")\n",
    "else:\n",
    "    print(\"El objeto deserializado con dill NO es idéntico al original.\")\n",
    "\n"
   ]
  },
  {
   "cell_type": "code",
   "execution_count": null,
   "id": "bd81524d-2166-4e02-853f-2e733ee2b27c",
   "metadata": {
    "editable": true,
    "slideshow": {
     "slide_type": ""
    },
    "tags": []
   },
   "outputs": [],
   "source": [
    "import os\n",
    "\n",
    "def test_serializacion_con_pickle():\n",
    "    \"\"\"Prueba de serialización y deserialización con pickle.\"\"\"\n",
    "    persona = Persona(nombre=\"Ana\", edad=25, hobbies=[\"pintar\", \"correr\"])\n",
    "\n",
    "    with open(\"test_persona_pickle.pkl\", \"wb\") as file_pickle:\n",
    "        pickle.dump(persona, file_pickle)\n",
    "\n",
    "    with open(\"test_persona_pickle.pkl\", \"rb\") as file_pickle:\n",
    "        persona_deserializada = pickle.load(file_pickle)\n",
    "\n",
    "    if persona == persona_deserializada:\n",
    "        print(\"test_serializacion_con_pickle PASSED\")\n",
    "    else:\n",
    "        print(\"test_serializacion_con_pickle FAILED\")\n",
    "\n",
    "    os.remove(\"test_persona_pickle.pkl\")\n",
    "\n",
    "\n",
    "def test_serializacion_con_dill():\n",
    "    \"\"\"Prueba de serialización y deserialización con dill.\"\"\"\n",
    "    persona = Persona(nombre=\"Luis\", edad=40, hobbies=[\"escalar\", \"leer\"])\n",
    "\n",
    "    with open(\"test_persona_dill.pkl\", \"wb\") as file_dill:\n",
    "        dill.dump(persona, file_dill)\n",
    "\n",
    "    with open(\"test_persona_dill.pkl\", \"rb\") as file_dill:\n",
    "        persona_deserializada = dill.load(file_dill)\n",
    "\n",
    "    if persona == persona_deserializada:\n",
    "        print(\"test_serializacion_con_dill PASSED\")\n",
    "    else:\n",
    "        print(\"test_serializacion_con_dill FAILED\")\n",
    "\n",
    "    os.remove(\"test_persona_dill.pkl\")\n",
    "\n",
    "\n",
    "test_serializacion_con_pickle()\n",
    "test_serializacion_con_dill()\n"
   ]
  },
  {
   "cell_type": "markdown",
   "id": "2959545d-536f-457d-aaaa-a45dd8bb4f5b",
   "metadata": {
    "editable": false,
    "slideshow": {
     "slide_type": ""
    },
    "tags": []
   },
   "source": [
    "**Ej 8:** Crear un diccionario que represente a un producto con atributos nombre, precio, descripción y una lista de características. Serializar este diccionario a un archivo JSON. Implementar un menu que permita cargar el diccionario desde memoria, guardar un diccionario y agregar características a un producto existente. Manejar cualquier excepción que pueda surgir."
   ]
  },
  {
   "cell_type": "code",
   "execution_count": null,
   "id": "ed6fbab6-815f-4d97-b63a-b2bf011f3753",
   "metadata": {
    "editable": true,
    "slideshow": {
     "slide_type": ""
    },
    "tags": []
   },
   "outputs": [],
   "source": [
    "import json\n",
    "\n",
    "producto = {\n",
    "    \"nombre\": \"Producto X\",\n",
    "    \"precio\": 0.0,\n",
    "    \"descripcion\": \"\",\n",
    "    \"caracteristicas\": []\n",
    "}\n",
    "\n",
    "archivo_json = \"producto.json\"\n",
    "\n",
    "\n",
    "def cargar_producto():\n",
    "    try:\n",
    "        with open(archivo_json, mode=\"r\", encoding=\"utf-8\") as archivo:\n",
    "            global producto\n",
    "            producto = json.load(archivo)\n",
    "        print(\"Producto cargado exitosamente.\")\n",
    "    except FileNotFoundError:\n",
    "        print(f\"Error: El archivo '{archivo_json}' no existe. Comenzando con un producto vacío.\")\n",
    "    except json.JSONDecodeError:\n",
    "        print(\"Error: El archivo JSON está dañado o tiene un formato incorrecto.\")\n",
    "    except Exception as e:\n",
    "        print(f\"Error inesperado al cargar el producto: {e}\")\n",
    "\n",
    "\n",
    "def guardar_producto():\n",
    "    try:\n",
    "        with open(archivo_json, mode=\"w\", encoding=\"utf-8\") as archivo:\n",
    "            json.dump(producto, archivo, indent=4)\n",
    "        print(\"Producto guardado exitosamente.\")\n",
    "    except Exception as e:\n",
    "        print(f\"Error inesperado al guardar el producto: {e}\")\n",
    "\n",
    "\n",
    "def agregar_caracteristica():\n",
    "    caracteristica = input(\"Ingrese una característica para el producto: \")\n",
    "    producto[\"caracteristicas\"].append(caracteristica)\n",
    "    print(\"Característica agregada exitosamente.\")\n",
    "\n",
    "\n",
    "def mostrar_producto():\n",
    "    print(\"\\nProducto actual:\")\n",
    "    print(json.dumps(producto, indent=4))\n",
    "\n",
    "\n",
    "def mostrar_menu():\n",
    "    print(\"\\n--- Menú ---\")\n",
    "    print(\"1. Cargar producto desde archivo\")\n",
    "    print(\"2. Guardar producto en archivo\")\n",
    "    print(\"3. Agregar característica al producto\")\n",
    "    print(\"4. Mostrar producto actual\")\n",
    "    print(\"5. Salir\")\n"
   ]
  },
  {
   "cell_type": "code",
   "execution_count": 32,
   "id": "9d3d4a03-cad4-4ce5-9849-1c3e53f6c43a",
   "metadata": {
    "slideshow": {
     "slide_type": ""
    },
    "tags": []
   },
   "outputs": [
    {
     "name": "stdout",
     "output_type": "stream",
     "text": [
      "\n",
      "--- Menú ---\n",
      "1. Cargar producto desde archivo\n",
      "2. Guardar producto en archivo\n",
      "3. Agregar característica al producto\n",
      "4. Mostrar producto actual\n",
      "5. Salir\n",
      "Opción no válida. Intente nuevamente.\n",
      "\n",
      "--- Menú ---\n",
      "1. Cargar producto desde archivo\n",
      "2. Guardar producto en archivo\n",
      "3. Agregar característica al producto\n",
      "4. Mostrar producto actual\n",
      "5. Salir\n",
      "Opción no válida. Intente nuevamente.\n",
      "\n",
      "--- Menú ---\n",
      "1. Cargar producto desde archivo\n",
      "2. Guardar producto en archivo\n",
      "3. Agregar característica al producto\n",
      "4. Mostrar producto actual\n",
      "5. Salir\n",
      "Opción no válida. Intente nuevamente.\n",
      "\n",
      "--- Menú ---\n",
      "1. Cargar producto desde archivo\n",
      "2. Guardar producto en archivo\n",
      "3. Agregar característica al producto\n",
      "4. Mostrar producto actual\n",
      "5. Salir\n",
      "Opción no válida. Intente nuevamente.\n",
      "\n",
      "--- Menú ---\n",
      "1. Cargar producto desde archivo\n",
      "2. Guardar producto en archivo\n",
      "3. Agregar característica al producto\n",
      "4. Mostrar producto actual\n",
      "5. Salir\n",
      "Opción no válida. Intente nuevamente.\n",
      "\n",
      "--- Menú ---\n",
      "1. Cargar producto desde archivo\n",
      "2. Guardar producto en archivo\n",
      "3. Agregar característica al producto\n",
      "4. Mostrar producto actual\n",
      "5. Salir\n",
      "Opción no válida. Intente nuevamente.\n",
      "\n",
      "--- Menú ---\n",
      "1. Cargar producto desde archivo\n",
      "2. Guardar producto en archivo\n",
      "3. Agregar característica al producto\n",
      "4. Mostrar producto actual\n",
      "5. Salir\n",
      "Opción no válida. Intente nuevamente.\n",
      "\n",
      "--- Menú ---\n",
      "1. Cargar producto desde archivo\n",
      "2. Guardar producto en archivo\n",
      "3. Agregar característica al producto\n",
      "4. Mostrar producto actual\n",
      "5. Salir\n",
      "Opción no válida. Intente nuevamente.\n",
      "\n",
      "--- Menú ---\n",
      "1. Cargar producto desde archivo\n",
      "2. Guardar producto en archivo\n",
      "3. Agregar característica al producto\n",
      "4. Mostrar producto actual\n",
      "5. Salir\n",
      "Opción no válida. Intente nuevamente.\n",
      "\n",
      "--- Menú ---\n",
      "1. Cargar producto desde archivo\n",
      "2. Guardar producto en archivo\n",
      "3. Agregar característica al producto\n",
      "4. Mostrar producto actual\n",
      "5. Salir\n",
      "Opción no válida. Intente nuevamente.\n",
      "\n",
      "--- Menú ---\n",
      "1. Cargar producto desde archivo\n",
      "2. Guardar producto en archivo\n",
      "3. Agregar característica al producto\n",
      "4. Mostrar producto actual\n",
      "5. Salir\n",
      "Opción no válida. Intente nuevamente.\n",
      "\n",
      "--- Menú ---\n",
      "1. Cargar producto desde archivo\n",
      "2. Guardar producto en archivo\n",
      "3. Agregar característica al producto\n",
      "4. Mostrar producto actual\n",
      "5. Salir\n",
      "Opción no válida. Intente nuevamente.\n",
      "\n",
      "--- Menú ---\n",
      "1. Cargar producto desde archivo\n",
      "2. Guardar producto en archivo\n",
      "3. Agregar característica al producto\n",
      "4. Mostrar producto actual\n",
      "5. Salir\n",
      "Opción no válida. Intente nuevamente.\n",
      "\n",
      "--- Menú ---\n",
      "1. Cargar producto desde archivo\n",
      "2. Guardar producto en archivo\n",
      "3. Agregar característica al producto\n",
      "4. Mostrar producto actual\n",
      "5. Salir\n",
      "Opción no válida. Intente nuevamente.\n",
      "\n",
      "--- Menú ---\n",
      "1. Cargar producto desde archivo\n",
      "2. Guardar producto en archivo\n",
      "3. Agregar característica al producto\n",
      "4. Mostrar producto actual\n",
      "5. Salir\n",
      "Opción no válida. Intente nuevamente.\n",
      "\n",
      "--- Menú ---\n",
      "1. Cargar producto desde archivo\n",
      "2. Guardar producto en archivo\n",
      "3. Agregar característica al producto\n",
      "4. Mostrar producto actual\n",
      "5. Salir\n",
      "Opción no válida. Intente nuevamente.\n",
      "\n",
      "--- Menú ---\n",
      "1. Cargar producto desde archivo\n",
      "2. Guardar producto en archivo\n",
      "3. Agregar característica al producto\n",
      "4. Mostrar producto actual\n",
      "5. Salir\n",
      "Opción no válida. Intente nuevamente.\n",
      "\n",
      "--- Menú ---\n",
      "1. Cargar producto desde archivo\n",
      "2. Guardar producto en archivo\n",
      "3. Agregar característica al producto\n",
      "4. Mostrar producto actual\n",
      "5. Salir\n",
      "Opción no válida. Intente nuevamente.\n",
      "\n",
      "--- Menú ---\n",
      "1. Cargar producto desde archivo\n",
      "2. Guardar producto en archivo\n",
      "3. Agregar característica al producto\n",
      "4. Mostrar producto actual\n",
      "5. Salir\n",
      "Opción no válida. Intente nuevamente.\n",
      "\n",
      "--- Menú ---\n",
      "1. Cargar producto desde archivo\n",
      "2. Guardar producto en archivo\n",
      "3. Agregar característica al producto\n",
      "4. Mostrar producto actual\n",
      "5. Salir\n",
      "Opción no válida. Intente nuevamente.\n",
      "\n",
      "--- Menú ---\n",
      "1. Cargar producto desde archivo\n",
      "2. Guardar producto en archivo\n",
      "3. Agregar característica al producto\n",
      "4. Mostrar producto actual\n",
      "5. Salir\n",
      "Opción no válida. Intente nuevamente.\n",
      "\n",
      "--- Menú ---\n",
      "1. Cargar producto desde archivo\n",
      "2. Guardar producto en archivo\n",
      "3. Agregar característica al producto\n",
      "4. Mostrar producto actual\n",
      "5. Salir\n",
      "Opción no válida. Intente nuevamente.\n",
      "\n",
      "--- Menú ---\n",
      "1. Cargar producto desde archivo\n",
      "2. Guardar producto en archivo\n",
      "3. Agregar característica al producto\n",
      "4. Mostrar producto actual\n",
      "5. Salir\n",
      "Opción no válida. Intente nuevamente.\n",
      "\n",
      "--- Menú ---\n",
      "1. Cargar producto desde archivo\n",
      "2. Guardar producto en archivo\n",
      "3. Agregar característica al producto\n",
      "4. Mostrar producto actual\n",
      "5. Salir\n",
      "Opción no válida. Intente nuevamente.\n",
      "\n",
      "--- Menú ---\n",
      "1. Cargar producto desde archivo\n",
      "2. Guardar producto en archivo\n",
      "3. Agregar característica al producto\n",
      "4. Mostrar producto actual\n",
      "5. Salir\n",
      "Opción no válida. Intente nuevamente.\n",
      "\n",
      "--- Menú ---\n",
      "1. Cargar producto desde archivo\n",
      "2. Guardar producto en archivo\n",
      "3. Agregar característica al producto\n",
      "4. Mostrar producto actual\n",
      "5. Salir\n",
      "Opción no válida. Intente nuevamente.\n",
      "\n",
      "--- Menú ---\n",
      "1. Cargar producto desde archivo\n",
      "2. Guardar producto en archivo\n",
      "3. Agregar característica al producto\n",
      "4. Mostrar producto actual\n",
      "5. Salir\n",
      "Opción no válida. Intente nuevamente.\n",
      "\n",
      "--- Menú ---\n",
      "1. Cargar producto desde archivo\n",
      "2. Guardar producto en archivo\n",
      "3. Agregar característica al producto\n",
      "4. Mostrar producto actual\n",
      "5. Salir\n",
      "Opción no válida. Intente nuevamente.\n",
      "\n",
      "--- Menú ---\n",
      "1. Cargar producto desde archivo\n",
      "2. Guardar producto en archivo\n",
      "3. Agregar característica al producto\n",
      "4. Mostrar producto actual\n",
      "5. Salir\n",
      "Opción no válida. Intente nuevamente.\n",
      "\n",
      "--- Menú ---\n",
      "1. Cargar producto desde archivo\n",
      "2. Guardar producto en archivo\n",
      "3. Agregar característica al producto\n",
      "4. Mostrar producto actual\n",
      "5. Salir\n",
      "Opción no válida. Intente nuevamente.\n",
      "\n",
      "--- Menú ---\n",
      "1. Cargar producto desde archivo\n",
      "2. Guardar producto en archivo\n",
      "3. Agregar característica al producto\n",
      "4. Mostrar producto actual\n",
      "5. Salir\n",
      "Opción no válida. Intente nuevamente.\n",
      "\n",
      "--- Menú ---\n",
      "1. Cargar producto desde archivo\n",
      "2. Guardar producto en archivo\n",
      "3. Agregar característica al producto\n",
      "4. Mostrar producto actual\n",
      "5. Salir\n",
      "Opción no válida. Intente nuevamente.\n",
      "\n",
      "--- Menú ---\n",
      "1. Cargar producto desde archivo\n",
      "2. Guardar producto en archivo\n",
      "3. Agregar característica al producto\n",
      "4. Mostrar producto actual\n",
      "5. Salir\n",
      "Opción no válida. Intente nuevamente.\n",
      "\n",
      "--- Menú ---\n",
      "1. Cargar producto desde archivo\n",
      "2. Guardar producto en archivo\n",
      "3. Agregar característica al producto\n",
      "4. Mostrar producto actual\n",
      "5. Salir\n",
      "Opción no válida. Intente nuevamente.\n",
      "\n",
      "--- Menú ---\n",
      "1. Cargar producto desde archivo\n",
      "2. Guardar producto en archivo\n",
      "3. Agregar característica al producto\n",
      "4. Mostrar producto actual\n",
      "5. Salir\n"
     ]
    }
   ],
   "source": [
    "# Ejemplo de uso\n",
    "def main():\n",
    "    while True:\n",
    "        mostrar_menu()\n",
    "        opcion = input(\"Seleccione una opción: \")\n",
    "        \n",
    "        if opcion == \"1\":\n",
    "            cargar_producto()\n",
    "        elif opcion == \"2\":\n",
    "            guardar_producto()\n",
    "        elif opcion == \"3\":\n",
    "            agregar_caracteristica()\n",
    "        elif opcion == \"4\":\n",
    "            mostrar_producto()\n",
    "        elif opcion == \"5\":\n",
    "            print(\"Saliendo del programa.\")\n",
    "            break\n",
    "        else:\n",
    "            print(\"Opción no válida. Intente nuevamente.\")\n",
    "\n",
    "if __name__ == \"__main__\":\n",
    "    main()\n"
   ]
  },
  {
   "cell_type": "markdown",
   "id": "26b644b4-e884-4a11-bc95-07f93649ce7c",
   "metadata": {
    "editable": false,
    "slideshow": {
     "slide_type": ""
    },
    "tags": []
   },
   "source": [
    "**Ej 9:** Crear una base de datos simple utilizando shelve para almacenar información de contactos. Cada contacto debe tener un nombre, un número de teléfono y una dirección de correo electrónico. Implementar funciones para agregar nuevos contactos, buscar contactos por nombre y eliminar contactos. Manejar cualquier excepción que pueda ocurrir. Los contactos se indexan por el nombre."
   ]
  },
  {
   "cell_type": "code",
   "execution_count": null,
   "id": "d41a7adf-017a-4174-a646-60638e015c6e",
   "metadata": {
    "editable": true,
    "slideshow": {
     "slide_type": ""
    },
    "tags": []
   },
   "outputs": [],
   "source": [
    "import shelve\n",
    "\n",
    "db_filename = 'contactos.db'\n",
    "\n",
    "def agregar_contacto(nombre, telefono, email):\n",
    "    try:\n",
    "        with shelve.open(db_filename) as db:\n",
    "            if nombre in db:\n",
    "                print(f\"El contacto con nombre '{nombre}' ya existe.\")\n",
    "            else:\n",
    "                db[nombre] = {'telefono': telefono, 'email': email}\n",
    "                print(f\"Contacto '{nombre}' agregado exitosamente.\")\n",
    "    except Exception as e:\n",
    "        print(f\"Error al agregar el contacto: {e}\")\n",
    "\n",
    "def buscar_contacto(nombre):\n",
    "    try:\n",
    "        with shelve.open(db_filename) as db:\n",
    "            if nombre in db:\n",
    "                contacto = db[nombre]\n",
    "                print(f\"Nombre: {nombre}\")\n",
    "                print(f\"Teléfono: {contacto['telefono']}\")\n",
    "                print(f\"Email: {contacto['email']}\")\n",
    "                return contacto\n",
    "            else:\n",
    "                print(f\"No se encontró ningún contacto con el nombre '{nombre}'.\")\n",
    "                return None\n",
    "    except Exception as e:\n",
    "        print(f\"Error al buscar el contacto: {e}\")\n",
    "\n",
    "def eliminar_contacto(nombre):\n",
    "    try:\n",
    "        with shelve.open(db_filename) as db:\n",
    "            if nombre in db:\n",
    "                del db[nombre]\n",
    "                print(f\"Contacto '{nombre}' eliminado exitosamente.\")\n",
    "            else:\n",
    "                print(f\"No se encontró ningún contacto con el nombre '{nombre}'.\")\n",
    "    except Exception as e:\n",
    "        print(f\"Error al eliminar el contacto: {e}\")\n",
    "\n",
    "def mostrar_menu():\n",
    "    print(\"\\n--- Menú de Contactos ---\")\n",
    "    print(\"1. Agregar contacto\")\n",
    "    print(\"2. Buscar contacto\")\n",
    "    print(\"3. Eliminar contacto\")\n",
    "    print(\"4. Salir\")"
   ]
  },
  {
   "cell_type": "code",
   "execution_count": 9,
   "id": "90fb5a84-90cb-4d1d-a841-ce163e59f6a3",
   "metadata": {
    "editable": true,
    "slideshow": {
     "slide_type": ""
    },
    "tags": []
   },
   "outputs": [],
   "source": [
    "def main():\n",
    "    while True:\n",
    "        mostrar_menu()\n",
    "        opcion = input(\"Seleccione una opción: \")\n",
    "        \n",
    "        if opcion == \"1\":\n",
    "            nombre = input(\"Ingrese el nombre del contacto: \")\n",
    "            telefono = input(\"Ingrese el número de teléfono: \")\n",
    "            email = input(\"Ingrese el correo electrónico: \")\n",
    "            agregar_contacto(nombre, telefono, email)\n",
    "        elif opcion == \"2\":\n",
    "            nombre = input(\"Ingrese el nombre del contacto a buscar: \")\n",
    "            buscar_contacto(nombre)\n",
    "        elif opcion == \"3\":\n",
    "            nombre = input(\"Ingrese el nombre del contacto a eliminar: \")\n",
    "            eliminar_contacto(nombre)\n",
    "        elif opcion == \"4\":\n",
    "            print(\"Saliendo del programa.\")\n",
    "            break\n",
    "        else:\n",
    "            print(\"Opción no válida. Intente nuevamente.\")\n",
    "\n",
    "if __name__ == \"__main__\":\n",
    "    main()"
   ]
  },
  {
   "cell_type": "markdown",
   "id": "1188981b-d1e9-4002-b49b-95616b4ec8ea",
   "metadata": {
    "editable": false,
    "slideshow": {
     "slide_type": ""
    },
    "tags": []
   },
   "source": [
    "**Ej 10:** Crear una base de datos utilizando dbm para almacenar pares clave-valor. Las claves serán cadenas de texto y los valores serán números enteros. Implementar funciones para agregar nuevos pares, buscar valores por clave y eliminar pares. Investigar y comparar el rendimiento de dbm con shelve para almacenar grandes cantidades de datos."
   ]
  },
  {
   "cell_type": "code",
   "execution_count": null,
   "id": "ac46be21-2445-4f10-a388-243ee18f3fca",
   "metadata": {
    "editable": true,
    "slideshow": {
     "slide_type": ""
    },
    "tags": []
   },
   "outputs": [],
   "source": [
    "import dbm\n",
    "\n",
    "# Nombre del archivo de base de datos\n",
    "db_filename = 'base_datos.db'\n",
    "\n",
    "def agregar_par(clave, valor):\n",
    "    try:\n",
    "        with dbm.open(db_filename, 'c') as db:\n",
    "            db[clave] = str(valor) \n",
    "            print(f\"Par '{clave}: {valor}' agregado exitosamente.\")\n",
    "    except Exception as e:\n",
    "        print(f\"Error al agregar el par clave-valor: {e}\")\n",
    "\n",
    "def buscar_valor(clave):\n",
    "    try:\n",
    "        with dbm.open(db_filename, 'r') as db:\n",
    "            if clave in db:\n",
    "                valor = int(db[clave].decode())  \n",
    "                print(f\"Valor encontrado para la clave '{clave}': {valor}\")\n",
    "                return valor\n",
    "            else:\n",
    "                print(f\"No se encontró la clave '{clave}' en la base de datos.\")\n",
    "                return None\n",
    "    except Exception as e:\n",
    "        print(f\"Error al buscar la clave: {e}\")\n",
    "        return None\n",
    "\n",
    "def eliminar_par(clave):\n",
    "    try:\n",
    "        with dbm.open(db_filename, 'w') as db:\n",
    "            if clave in db:\n",
    "                del db[clave]\n",
    "                print(f\"Par con clave '{clave}' eliminado exitosamente.\")\n",
    "            else:\n",
    "                print(f\"No se encontró la clave '{clave}' en la base de datos.\")\n",
    "    except Exception as e:\n",
    "        print(f\"Error al eliminar el par clave-valor: {e}\")\n",
    "\n",
    "def mostrar_menu():\n",
    "    print(\"\\n--- Menú de Pares Clave-Valor ---\")\n",
    "    print(\"1. Agregar par clave-valor\")\n",
    "    print(\"2. Buscar valor por clave\")\n",
    "    print(\"3. Eliminar par clave-valor\")\n",
    "    print(\"4. Salir\")\n"
   ]
  },
  {
   "cell_type": "code",
   "execution_count": 10,
   "id": "e820f383-e7c2-4919-b089-cc97ca26fdaf",
   "metadata": {
    "editable": true,
    "slideshow": {
     "slide_type": ""
    },
    "tags": []
   },
   "outputs": [],
   "source": [
    "def main():\n",
    "    while True:\n",
    "        mostrar_menu()\n",
    "        opcion = input(\"Seleccione una opción: \")\n",
    "        \n",
    "        if opcion == \"1\":\n",
    "            clave = input(\"Ingrese la clave (cadena de texto): \")\n",
    "            valor = input(\"Ingrese el valor (número entero): \")\n",
    "            if valor.isdigit():\n",
    "                agregar_par(clave, int(valor))\n",
    "            else:\n",
    "                print(\"Error: El valor debe ser un número entero.\")\n",
    "        elif opcion == \"2\":\n",
    "            clave = input(\"Ingrese la clave a buscar: \")\n",
    "            buscar_valor(clave)\n",
    "        elif opcion == \"3\":\n",
    "            clave = input(\"Ingrese la clave del par a eliminar: \")\n",
    "            eliminar_par(clave)\n",
    "        elif opcion == \"4\":\n",
    "            print(\"Saliendo del programa.\")\n",
    "            break\n",
    "        else:\n",
    "            print(\"Opción no válida. Intente nuevamente.\")\n",
    "\n",
    "if __name__ == \"__main__\":\n",
    "    main()"
   ]
  },
  {
   "cell_type": "markdown",
   "id": "3ac2fb42-a959-47a4-9a77-2d501d41e4c1",
   "metadata": {
    "editable": false,
    "slideshow": {
     "slide_type": ""
    },
    "tags": []
   },
   "source": [
    "##### Comparación entre Shelve y dbm"
   ]
  },
  {
   "cell_type": "markdown",
   "id": "4b2d756c-cef9-4039-8222-e968269fb4f2",
   "metadata": {
    "editable": true,
    "slideshow": {
     "slide_type": ""
    },
    "tags": []
   },
   "source": [
    "dbm es súper eficiente cuando necesitas almacenar pares clave-valor simples y buscas rendimiento. Las claves deben ser texto y los valores, cadenas en formato de bytes, así que es ideal cuando solo tenes que manejar datos básicos como enteros o texto y se busca algo rápido y que ocupe poco espacio. Por ejemplo, si solo necesitas guardar IDs de estudiantes y sus notas, dbm es perfecto.\n",
    "\n",
    "shelve, por otro lado, es más flexible porque te permite guardar estructuras de datos complejas como listas, diccionarios, o incluso objetos de clases, ya que utiliza pickle para serializar. Esto es útil cuando necesitas guardar y recuperar datos complejos, como una lista de estudiantes con sus datos completos (nombre, dirección, historial académico, etc.). Sin embargo, shelve ocupa más espacio y es más lento que dbm debido a la serialización.\n",
    "\n",
    "Entonces, si necesitas simplicidad y rapidez para datos básicos, dbm es una gran opción. Pero si necesitas flexibilidad y trabajar con datos más complejos, aunque sea un poco más lento, shelve es más adecuado."
   ]
  }
 ],
 "metadata": {
  "kernelspec": {
   "display_name": "Python 3 (ipykernel)",
   "language": "python",
   "name": "python3"
  },
  "language_info": {
   "codemirror_mode": {
    "name": "ipython",
    "version": 3
   },
   "file_extension": ".py",
   "mimetype": "text/x-python",
   "name": "python",
   "nbconvert_exporter": "python",
   "pygments_lexer": "ipython3",
   "version": "3.11.4"
  },
  "rise": {
   "start_slideshow_at": "beginning"
  }
 },
 "nbformat": 4,
 "nbformat_minor": 5
}
